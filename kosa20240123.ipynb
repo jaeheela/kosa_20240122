{
  "nbformat": 4,
  "nbformat_minor": 0,
  "metadata": {
    "colab": {
      "provenance": [],
      "collapsed_sections": [
        "XHa6id4D-t8G",
        "lqTIx76OMHmK",
        "s0swXWdtMLe1",
        "sZzKNgokNKic",
        "3I8UPboZXs3b",
        "B2btU_M55wH2"
      ],
      "authorship_tag": "ABX9TyMl6yq+Qtn5v4Cl4XqTvfsb",
      "include_colab_link": true
    },
    "kernelspec": {
      "name": "python3",
      "display_name": "Python 3"
    },
    "language_info": {
      "name": "python"
    }
  },
  "cells": [
    {
      "cell_type": "markdown",
      "metadata": {
        "id": "view-in-github",
        "colab_type": "text"
      },
      "source": [
        "<a href=\"https://colab.research.google.com/github/jaeheela/kosa_20240122/blob/main/kosa20240123.ipynb\" target=\"_parent\"><img src=\"https://colab.research.google.com/assets/colab-badge.svg\" alt=\"Open In Colab\"/></a>"
      ]
    },
    {
      "cell_type": "markdown",
      "source": [
        "# **파이썬 연습**"
      ],
      "metadata": {
        "id": "XHa6id4D-t8G"
      }
    },
    {
      "cell_type": "code",
      "source": [
        "print(\"Hello World\")"
      ],
      "metadata": {
        "colab": {
          "base_uri": "https://localhost:8080/"
        },
        "id": "RmOVnGSP-OAJ",
        "outputId": "cb00c2ef-00f0-42be-9afe-92328652af2b"
      },
      "execution_count": null,
      "outputs": [
        {
          "output_type": "stream",
          "name": "stdout",
          "text": [
            "Hello World\n"
          ]
        }
      ]
    },
    {
      "cell_type": "code",
      "source": [
        "# 문자열 연습\n",
        "str = 'Hello World'\n",
        "print(str)\n",
        "\n",
        "\n",
        "str = \"Hello World\"\n",
        "print(str)\n",
        "\n",
        "\n",
        "str = '''Hello\n",
        "World'''\n",
        "print(str)\n",
        "\n",
        "\n",
        "str = \"\"\"Hello\n",
        "World\"\"\"\n",
        "print(str)"
      ],
      "metadata": {
        "colab": {
          "base_uri": "https://localhost:8080/"
        },
        "id": "rZKxgtgm_JOd",
        "outputId": "99fec4e8-4e0b-4d36-bb34-a8c9fc0c998d"
      },
      "execution_count": null,
      "outputs": [
        {
          "output_type": "stream",
          "name": "stdout",
          "text": [
            "Hello World\n",
            "Hello World\n",
            "Hello\n",
            "World\n",
            "Hello\n",
            "World\n"
          ]
        }
      ]
    },
    {
      "cell_type": "code",
      "source": [
        "# 리스트\n",
        "\n",
        "\n",
        "var = [1,'chris',['tommy', 'harry'], ('hans', 2)]\n",
        "print(var)\n",
        "print(var[3])\n",
        "print(var[3][0])\n",
        "print(var[-1])\n",
        "\n",
        "\n",
        "var[0]=7\n",
        "print(var[:2])\n",
        "\n",
        "\n",
        "del var[2:]\n",
        "print(var)\n",
        "\n",
        "\n",
        "print(len(var))"
      ],
      "metadata": {
        "colab": {
          "base_uri": "https://localhost:8080/"
        },
        "id": "bEjXPoF1_rYa",
        "outputId": "8d053e0b-6ba8-4969-c01c-6cb00b43a120"
      },
      "execution_count": null,
      "outputs": [
        {
          "output_type": "stream",
          "name": "stdout",
          "text": [
            "[1, 'chris', ['tommy', 'harry'], ('hans', 2)]\n",
            "('hans', 2)\n",
            "hans\n",
            "('hans', 2)\n",
            "[7, 'chris']\n",
            "[7, 'chris']\n",
            "2\n"
          ]
        }
      ]
    },
    {
      "cell_type": "code",
      "source": [
        "# 딕셔너리\n",
        "\n",
        "\n",
        "\n",
        "\n",
        "var = {'name' : 'chris', 'age' : 23, 1 : ['a' , 'b', 'c']}\n",
        "print(var)\n",
        "print(var['name'])\n",
        "\n",
        "\n",
        "\n",
        "\n",
        "var['age'] = 33\n",
        "print(var)\n",
        "del var[1] # key로 접근\n",
        "print(var)\n",
        "var[1] = 'Hi'\n",
        "print(var)\n",
        "\n",
        "\n",
        "\n",
        "\n",
        "var.update({'name' : 'hans', 'age' : 30})\n",
        "print(var)"
      ],
      "metadata": {
        "colab": {
          "base_uri": "https://localhost:8080/"
        },
        "id": "aQFouvwpAqcd",
        "outputId": "1b94fe11-3f07-4fa7-ec82-e1b07b99ab2c"
      },
      "execution_count": null,
      "outputs": [
        {
          "output_type": "stream",
          "name": "stdout",
          "text": [
            "{'name': 'chris', 'age': 23, 1: ['a', 'b', 'c']}\n",
            "chris\n",
            "{'name': 'chris', 'age': 33, 1: ['a', 'b', 'c']}\n",
            "{'name': 'chris', 'age': 33}\n",
            "{'name': 'chris', 'age': 33, 1: 'Hi'}\n",
            "{'name': 'hans', 'age': 30, 1: 'Hi'}\n"
          ]
        }
      ]
    },
    {
      "cell_type": "code",
      "source": [
        "# 얕은 복사와 깊은 복사\n",
        "\n",
        "\n",
        "\n",
        "# 얕은 복사 - 값이 저장된 위치만 복사 (data only one)\n",
        "data_1 = {'1st' : 'chris', '2nd' : 'tommy', '3rd' : 'harry'} #메모리에 저장 후 메모리 주소만 data_1에 저장\n",
        "data_2 = data_1 #data_2에 메모리 주소 data_1 저장 -> 메모리 상에 데이타는 only one\n",
        "print(data_1)\n",
        "print(data_2)\n",
        "data_1['1st'] = 'hans'\n",
        "print(data_1)\n",
        "print(data_2)\n",
        "\n",
        "\n",
        "\n",
        "# 깊은 복사 - 값 자체 복사 (two datas)\n",
        "data_1 = {'1st' : 'chris', '2nd' : 'tommy', '3rd' : 'harry'}\n",
        "data_2 = data_1.copy() #깊은복사\n",
        "print(data_1)\n",
        "print(data_2)\n",
        "data_1['1st'] = 'hans'\n",
        "print(data_1)\n",
        "print(data_2)"
      ],
      "metadata": {
        "colab": {
          "base_uri": "https://localhost:8080/"
        },
        "id": "oqNGY8ZTAtgO",
        "outputId": "f7f76d14-84ef-4d30-b233-f081a606fb59"
      },
      "execution_count": null,
      "outputs": [
        {
          "output_type": "stream",
          "name": "stdout",
          "text": [
            "{'1st': 'chris', '2nd': 'tommy', '3rd': 'harry'}\n",
            "{'1st': 'chris', '2nd': 'tommy', '3rd': 'harry'}\n",
            "{'1st': 'hans', '2nd': 'tommy', '3rd': 'harry'}\n",
            "{'1st': 'hans', '2nd': 'tommy', '3rd': 'harry'}\n",
            "{'1st': 'chris', '2nd': 'tommy', '3rd': 'harry'}\n",
            "{'1st': 'chris', '2nd': 'tommy', '3rd': 'harry'}\n",
            "{'1st': 'hans', '2nd': 'tommy', '3rd': 'harry'}\n",
            "{'1st': 'chris', '2nd': 'tommy', '3rd': 'harry'}\n"
          ]
        }
      ]
    },
    {
      "cell_type": "code",
      "source": [
        "# 입출력 함수의 활용\n",
        "\n",
        "\n",
        "\n",
        "\n",
        "import math\n",
        "\n",
        "\n",
        "\n",
        "\n",
        "def getArea(length):\n",
        "  area = length*length*math.pi\n",
        "  return area\n",
        "\n",
        "\n",
        "\n",
        "\n",
        "value = input('Input a number: ')\n",
        "area = getArea(int(value))\n",
        "print('Input number : {0} => Area : {1}'.format(value, area))"
      ],
      "metadata": {
        "colab": {
          "base_uri": "https://localhost:8080/"
        },
        "id": "yjxSQIQqCGZP",
        "outputId": "0db4b291-2ffe-4793-9da4-806bfaf632e0"
      },
      "execution_count": null,
      "outputs": [
        {
          "output_type": "stream",
          "name": "stdout",
          "text": [
            "Input a number: 10\n",
            "Input number : 10 => Area : 314.1592653589793\n"
          ]
        }
      ]
    },
    {
      "cell_type": "code",
      "source": [
        "# 함수\n",
        "\n",
        "\n",
        "\n",
        "\n",
        "# 파라미터도 없고 리턴값도 없음\n",
        "def hello():\n",
        "    print(\"Hello World\")\n",
        "\n",
        "\n",
        "\n",
        "\n",
        "hello()\n",
        "\n",
        "\n",
        "\n",
        "\n",
        "# 파라미터와 리턴값이 있음\n",
        "def add(x, y):\n",
        "    print(x)\n",
        "    print(y)\n",
        "    return x + y\n",
        "\n",
        "\n",
        "\n",
        "\n",
        "val_x = 1\n",
        "val_y = 2\n",
        "val_sum = add(val_x, val_y)\n",
        "print(val_sum)\n",
        "\n",
        "\n",
        "\n",
        "\n",
        "# 여러개의 값을 반환하는 함수\n",
        "\n",
        "\n",
        "\n",
        "\n",
        "def calc(a, b):\n",
        "    return a + b, a - b\n",
        "\n",
        "\n",
        "\n",
        "\n",
        "result = calc(1,3)\n",
        "print(result)\n",
        "\n",
        "\n",
        "\n",
        "\n",
        "x, y = calc(1,3)\n",
        "print(x)"
      ],
      "metadata": {
        "colab": {
          "base_uri": "https://localhost:8080/"
        },
        "id": "gti248n1CeTN",
        "outputId": "fe6680dc-227b-4c71-cae7-570995e9dba1"
      },
      "execution_count": null,
      "outputs": [
        {
          "output_type": "stream",
          "name": "stdout",
          "text": [
            "Hello World\n",
            "1\n",
            "2\n",
            "3\n",
            "(4, -2)\n",
            "4\n"
          ]
        }
      ]
    },
    {
      "cell_type": "code",
      "source": [
        "# Lamda - 함수이름이 없는 간소화한 함수, 정의와 함께 실행하는 함수,\n",
        "\n",
        "# 일반적인 함수\n",
        "def add(a, b):\n",
        "    return a + b\n",
        "result = add(1,2)\n",
        "print(result)\n",
        "\n",
        "\n",
        "\n",
        "\n",
        "# 간단한 람다함수\n",
        "add = lambda a, b: a + b\n",
        "result = add(1,3)\n",
        "print(result)\n",
        "\n",
        "\n",
        "\n",
        "# 람다를 이용하는 이유 : 1회성, 담자마자 실행!\n",
        "result = (lambda a, b: a + b)(1,4)\n",
        "print(result)"
      ],
      "metadata": {
        "colab": {
          "base_uri": "https://localhost:8080/"
        },
        "id": "WOlTH6s6C3hw",
        "outputId": "27dc45ee-7273-4747-d8b8-912746441b1e"
      },
      "execution_count": null,
      "outputs": [
        {
          "output_type": "stream",
          "name": "stdout",
          "text": [
            "3\n",
            "4\n",
            "5\n"
          ]
        }
      ]
    },
    {
      "cell_type": "code",
      "source": [
        "# File I/O와 예외처리\n",
        "\n",
        "\n",
        "\n",
        "\n",
        "# 새로운 퍄일에 데이터 쓰기\n",
        "file = open(\"test.txt\", \"w\")\n",
        "for data in range(1, 11): #1~10까지 반복\n",
        "    file.write(f'{data} line\\n');\n",
        "file.close()\n",
        "\n",
        "\n",
        "\n",
        "\n",
        "# 기록한 데이터 읽기\n",
        "file = open(\"test.txt\", \"r\")\n",
        "while True:\n",
        "    line = file.readline()\n",
        "    if not line:\n",
        "        break\n",
        "    print(line)\n",
        "file.close\n",
        "\n",
        "\n",
        "\n",
        "\n",
        "# 예외처리 : try ~ except\n",
        "try:\n",
        "    myFile = open('NotExist.txt', 'r')\n",
        "except FileNotFoundError as e:\n",
        "    print('파일이 존재하지 않습니다.')\n",
        "    print(e)"
      ],
      "metadata": {
        "colab": {
          "base_uri": "https://localhost:8080/"
        },
        "id": "HKc7qscDDqOp",
        "outputId": "84395491-39f6-41df-ec4e-1a5cb2b32b83"
      },
      "execution_count": null,
      "outputs": [
        {
          "output_type": "stream",
          "name": "stdout",
          "text": [
            "1 line\n",
            "\n",
            "2 line\n",
            "\n",
            "3 line\n",
            "\n",
            "4 line\n",
            "\n",
            "5 line\n",
            "\n",
            "6 line\n",
            "\n",
            "7 line\n",
            "\n",
            "8 line\n",
            "\n",
            "9 line\n",
            "\n",
            "10 line\n",
            "\n",
            "파일이 존재하지 않습니다.\n",
            "[Errno 2] No such file or directory: 'NotExist.txt'\n"
          ]
        }
      ]
    },
    {
      "cell_type": "markdown",
      "source": [
        "# **머신러닝 연습**"
      ],
      "metadata": {
        "id": "20CuOR1rK_ng"
      }
    },
    {
      "cell_type": "markdown",
      "source": [
        "## (1) 학습을 위한 데이터를 우리가 직접 만들자."
      ],
      "metadata": {
        "id": "lqTIx76OMHmK"
      }
    },
    {
      "cell_type": "code",
      "source": [
        "#데이터 준비\n",
        "import random\n",
        "\n",
        "\n",
        "\n",
        "\n",
        "# 점수를 계산해서 평균에 따른 학점을 반환\n",
        "# 편의상 A, B, C로 구분함.\n",
        "def get_grade(kor, math):\n",
        "  mean = int((kor + math) / 2)\n",
        "  grade = \"C\"\n",
        "  if 70 <= mean:\n",
        "    grade = \"A\"\n",
        "  elif 40 <= mean:\n",
        "    grade = \"B\"\n",
        "  return grade\n",
        "\n",
        "\n",
        "\n",
        "\n",
        "# 20000개 데이터를 만들어 CSV에 기록한다.\n",
        "fp = open(\"grade.csv\",\"w\",encoding=\"utf-8\") #write로 열었다!\n",
        "fp.write(\"KOR,MATH,GRADE\\r\\n\")\n",
        "\n",
        "\n",
        "\n",
        "\n",
        "for i in range(20000):\n",
        "  kor = random.randint(10, 100)\n",
        "  math = random.randint(10, 100)\n",
        "  grade = get_grade(kor, math)\n",
        "  fp.write(\"{0},{1},{2}\\r\\n\".format(kor, math, grade))\n",
        "\n",
        "\n",
        "\n",
        "\n",
        "fp.close()\n"
      ],
      "metadata": {
        "id": "1hqNo0GgLFUs"
      },
      "execution_count": 3,
      "outputs": []
    },
    {
      "cell_type": "markdown",
      "source": [
        "## (2) 만들어진 데이터의 특징을 살펴보자 (그림)"
      ],
      "metadata": {
        "id": "s0swXWdtMLe1"
      }
    },
    {
      "cell_type": "code",
      "source": [
        "# 특징 보기\n",
        "import matplotlib.pyplot as plt\n",
        "import pandas as pd\n",
        "\n",
        "\n",
        "\n",
        "\n",
        "# pands로 csv 파일 읽기\n",
        "grade = pd.read_csv(\"grade.csv\", index_col=2)\n",
        "\n",
        "\n",
        "\n",
        "\n",
        "# 그래프로 표시하기\n",
        "fig = plt.figure()\n",
        "ax = fig.add_subplot(1, 1, 1)\n",
        "\n",
        "\n",
        "\n",
        "\n",
        "# Lable 색상 표시하는 함수\n",
        "def scatter(label_text, color):\n",
        "  b = grade.loc[label_text]\n",
        "  ax.scatter(b[\"KOR\"],b[\"MATH\"], c=color, label=label_text)\n",
        "\n",
        "\n",
        "\n",
        "\n",
        "scatter(\"A\", \"red\")\n",
        "scatter(\"B\", \"blue\")\n",
        "scatter(\"C\", \"yellow\")\n",
        "ax.legend()\n"
      ],
      "metadata": {
        "colab": {
          "base_uri": "https://localhost:8080/",
          "height": 448
        },
        "id": "0hPDsN9iMRqv",
        "outputId": "7b0f2408-7324-446b-9a9c-f204b9ed7a57"
      },
      "execution_count": 4,
      "outputs": [
        {
          "output_type": "execute_result",
          "data": {
            "text/plain": [
              "<matplotlib.legend.Legend at 0x7fe3aebe7130>"
            ]
          },
          "metadata": {},
          "execution_count": 4
        },
        {
          "output_type": "display_data",
          "data": {
            "text/plain": [
              "<Figure size 640x480 with 1 Axes>"
            ],
            "image/png": "[encoded data removed]"
          },
          "metadata": {}
        }
      ]
    },
    {
      "cell_type": "markdown",
      "source": [
        "## 3) SVM (파이썬에서 제공하는 Support Vector Machine)을 이용해 보자."
      ],
      "metadata": {
        "id": "sZzKNgokNKic"
      }
    },
    {
      "cell_type": "code",
      "source": [
        "# SVM으로 머신러닝\n",
        "# => 파이썬에서 제공하는 머신러닝 라이브러리 : sklearn\n",
        "# => 파일 읽기 : pandas\n",
        "from sklearn import svm, metrics\n",
        "from sklearn.model_selection import train_test_split\n",
        "import pandas as pd\n",
        "\n",
        "\n",
        "\n",
        "\n",
        "# grade가 저장된 CSV 파일 읽기 > grade 변수에 저장\n",
        "grade = pd.read_csv(\"grade.csv\")\n",
        "\n",
        "\n",
        "\n",
        "\n",
        "# 데이터 전처리 (학습을 위하여 데이터를 분리하고 가공-정규화) > grade[\"KOR\"], grade[\"MATH\"], grade[\"GRADE\"]\n",
        "label = grade[\"GRADE\"]\n",
        "kor = grade[\"KOR\"] / 100 # 점수는 최대 100점\n",
        "math = grade[\"MATH\"] / 100\n",
        "data = pd.concat([kor, math], axis=1)\n",
        "\n",
        "\n",
        "\n",
        "\n",
        "# 학습 데이터 와 테스트 데이터로 분리 (학습데이터, 테스트데이터)\n",
        "data_train, data_test, label_train, label_test = \\\n",
        "    train_test_split(data, label)\n",
        "\n",
        "\n",
        "\n",
        "\n",
        "# 학습하기 (fit:학습하다)\n",
        "model = svm.SVC()\n",
        "model.fit(data_train, label_train)\n",
        "\n",
        "\n",
        "\n",
        "\n",
        "# 테스트 데이터로 에측하기 (predict:예측하다)\n",
        "predict = model.predict(data_test)\n",
        "\n",
        "\n",
        "\n",
        "\n",
        "# 결과 확인하고 평가하기(검증)\n",
        "ac_score = metrics.accuracy_score(label_test, predict)\n",
        "cl_report = metrics.classification_report(label_test, predict)\n",
        "print(\"Accuracy =\", ac_score)\n",
        "print(\"Report =\\n\", cl_report)\n"
      ],
      "metadata": {
        "colab": {
          "base_uri": "https://localhost:8080/"
        },
        "id": "wWRJxzCbNHQ1",
        "outputId": "fdbb4ff8-6328-4161-8db3-1be6bff0249e"
      },
      "execution_count": 6,
      "outputs": [
        {
          "output_type": "stream",
          "name": "stdout",
          "text": [
            "Accuracy = 0.9986\n",
            "Report =\n",
            "               precision    recall  f1-score   support\n",
            "\n",
            "           A       1.00      0.99      1.00      1134\n",
            "           B       1.00      1.00      1.00      2781\n",
            "           C       1.00      1.00      1.00      1085\n",
            "\n",
            "    accuracy                           1.00      5000\n",
            "   macro avg       1.00      1.00      1.00      5000\n",
            "weighted avg       1.00      1.00      1.00      5000\n",
            "\n"
          ]
        }
      ]
    },
    {
      "cell_type": "markdown",
      "source": [
        "## 4) 딥러닝으로 학습하자\n"
      ],
      "metadata": {
        "id": "3I8UPboZXs3b"
      }
    },
    {
      "cell_type": "code",
      "source": [
        "#딥러닝\n",
        "from keras.models import Sequential\n",
        "from tensorflow.keras.layers import Dense, Dropout, Activation\n",
        "from keras.callbacks import EarlyStopping\n",
        "import pandas as pd, numpy as np\n",
        "\n",
        "\n",
        "# => 입력2개(국어,수학) 출력3개(A,B,C) - 중간다리(신경망모델)\n",
        "# => 딥러닝은 결과값 자체도 숫자여야하지, 문자열은 모름\n",
        "\n",
        "\n",
        "\n",
        "# grade가 저장된 CSV 파일 읽기\n",
        "grade = pd.read_csv(\"grade.csv\")\n",
        "\n",
        "\n",
        "\n",
        "\n",
        "#데이터 전처리 (MLP 학습을 위해 데이터를 가공)\n",
        "grade[\"KOR\"] /= 100 # 점수는 최대 100점\n",
        "grade[\"MATH\"] /= 100\n",
        "\n",
        "\n",
        "\n",
        "\n",
        "# => 딥러닝이 읽을 수 있는 숫자로 변환\n",
        "X = grade[[\"KOR\", \"MATH\"]].to_numpy() # 입력데이터 (독립변수), floating으로변환:to_numpy\n",
        "\n",
        "# => A,B,C 를 계산하기 위해 숫자로 변환하여 trick 발휘\n",
        "lable_class = {\"A\":[1,0,0], \"B\":[0,1,0], \"C\":[0,0,1]} # Label (종속변수)\n",
        "Y = np.empty((20000,3)) #숫자 3개 넣을 수 있는 3차열 array 만듦\n",
        "for i, j in enumerate(grade[\"GRADE\"]):\n",
        "    Y[i] = lable_class[j]\n",
        "\n",
        "# => 결론: 입력데이터 20000개와 출력데이터 20000개를 만들었다!\n",
        "\n",
        "\n",
        "# 학습 데이터와 테스트 데이터 분할\n",
        "# => 학습 데이터 : 15000개의 입력데이터, 출력데이터\n",
        "# => 테스트 데이터 : 5000개의 입력데이터, 출력데이터\n",
        "X_train, Y_train = X[1:15001], Y[1:15001]\n",
        "X_test,  Y_test  = X[15001:20001], Y[15001:20001]\n",
        "\n",
        "\n",
        "\n",
        "\n",
        "# 학습을 위한 모델 구성하기\n",
        "model = Sequential()\n",
        "model.add(Dense(512, input_shape=(2,))) #512개 넣음\n",
        "model.add(Activation('relu')) #활성화함수 - relu\n",
        "model.add(Dropout(0.1)) #51개는 일부러 끊음 - 과적합때문\n",
        "model.add(Dense(512)) #512개 넣음\n",
        "model.add(Activation('relu')) #활성화함수 - relu\n",
        "model.add(Dropout(0.1)) #51개는 일부러 끊음 - 과적합때문\n",
        "model.add(Dense(3)) #3개 넣음\n",
        "model.add(Activation('softmax')) #활성화함수 - softmax\n",
        "\n",
        "\n",
        "\n",
        "\n",
        "model.compile(\n",
        "    loss='categorical_crossentropy',\n",
        "    optimizer=\"rmsprop\",\n",
        "    metrics=['accuracy'])\n",
        "\n",
        "\n",
        "\n",
        "\n",
        "model.summary()\n",
        "\n",
        "\n",
        "\n",
        "\n",
        "# 모델을 이용한 학습\n",
        "# => (fit:학습하다, 15000개를, 100개씩 끊어서, 최대20회동안, 진행하는 가운데 더 이상 의미가 없으면 멈춰라)\n",
        "model.fit(\n",
        "    X_train, Y_train,\n",
        "    batch_size=100,\n",
        "    epochs=20,\n",
        "    validation_split=0.1,\n",
        "    callbacks=[EarlyStopping(monitor='val_loss', patience=2)],\n",
        "    verbose=1)\n",
        "\n",
        "\n",
        "\n",
        "# => 재사용하려고 : 일부러 save 후 load - 모델에 저장과 읽기 가능하다는 걸 보여줌\n",
        "model.save_weights('my_model_weights.h5')\n",
        "model.load_weights('my_model_weights.h5')\n",
        "\n",
        "\n",
        "\n",
        "\n",
        "# 테스트 데이터를 이용한 평가\n",
        "score = model.evaluate(X_test, Y_test)\n",
        "print('loss=', score[0])\n",
        "print('accuracy=', score[1])\n",
        "\n",
        "# => 결론 : SVM과 동일해짐!, 이 후로 모델 이용함\n",
        "\n",
        "\n",
        "\n",
        "# 생성한 모델 이용\n",
        "X_Data = X[0:10]\n",
        "\n",
        "\n",
        "\n",
        "# => (predict: 예측하다)\n",
        "result = model.predict(X_Data)\n",
        "print(result)\n",
        "\n",
        "\n",
        "\n",
        "# => 최댓값을 가져다, 최댓값을 찍자!\n",
        "predicted = result.argmax(axis=-1)\n",
        "print(predicted)"
      ],
      "metadata": {
        "id": "uBDM-DDwW9Y-",
        "colab": {
          "base_uri": "https://localhost:8080/"
        },
        "outputId": "94ad31e8-b78d-42fc-b940-2f5090fe4452"
      },
      "execution_count": 7,
      "outputs": [
        {
          "output_type": "stream",
          "name": "stdout",
          "text": [
            "Model: \"sequential\"\n",
            "_________________________________________________________________\n",
            " Layer (type)                Output Shape              Param #   \n",
            "=================================================================\n",
            " dense (Dense)               (None, 512)               1536      \n",
            "                                                                 \n",
            " activation (Activation)     (None, 512)               0         \n",
            "                                                                 \n",
            " dropout (Dropout)           (None, 512)               0         \n",
            "                                                                 \n",
            " dense_1 (Dense)             (None, 512)               262656    \n",
            "                                                                 \n",
            " activation_1 (Activation)   (None, 512)               0         \n",
            "                                                                 \n",
            " dropout_1 (Dropout)         (None, 512)               0         \n",
            "                                                                 \n",
            " dense_2 (Dense)             (None, 3)                 1539      \n",
            "                                                                 \n",
            " activation_2 (Activation)   (None, 3)                 0         \n",
            "                                                                 \n",
            "=================================================================\n",
            "Total params: 265731 (1.01 MB)\n",
            "Trainable params: 265731 (1.01 MB)\n",
            "Non-trainable params: 0 (0.00 Byte)\n",
            "_________________________________________________________________\n",
            "Epoch 1/20\n",
            "135/135 [==============================] - 3s 20ms/step - loss: 0.4200 - accuracy: 0.8382 - val_loss: 0.1559 - val_accuracy: 0.9547\n",
            "Epoch 2/20\n",
            "135/135 [==============================] - 1s 11ms/step - loss: 0.1494 - accuracy: 0.9447 - val_loss: 0.2066 - val_accuracy: 0.8887\n",
            "Epoch 3/20\n",
            "135/135 [==============================] - 1s 11ms/step - loss: 0.1172 - accuracy: 0.9536 - val_loss: 0.1136 - val_accuracy: 0.9413\n",
            "Epoch 4/20\n",
            "135/135 [==============================] - 1s 11ms/step - loss: 0.1019 - accuracy: 0.9573 - val_loss: 0.0653 - val_accuracy: 0.9833\n",
            "Epoch 5/20\n",
            "135/135 [==============================] - 1s 11ms/step - loss: 0.0951 - accuracy: 0.9611 - val_loss: 0.0579 - val_accuracy: 0.9880\n",
            "Epoch 6/20\n",
            "135/135 [==============================] - 1s 11ms/step - loss: 0.0886 - accuracy: 0.9624 - val_loss: 0.1949 - val_accuracy: 0.9147\n",
            "Epoch 7/20\n",
            "135/135 [==============================] - 1s 11ms/step - loss: 0.0845 - accuracy: 0.9647 - val_loss: 0.0594 - val_accuracy: 0.9760\n",
            "157/157 [==============================] - 1s 3ms/step - loss: 0.0566 - accuracy: 0.9760\n",
            "loss= 0.05662374570965767\n",
            "accuracy= 0.9759951829910278\n",
            "1/1 [==============================] - 0s 105ms/step\n",
            "[[9.5534104e-01 4.4658922e-02 1.1465677e-17]\n",
            " [1.3790652e-09 9.9378169e-01 6.2182299e-03]\n",
            " [9.8226726e-01 1.7732669e-02 1.1804400e-18]\n",
            " [1.0052991e-09 9.8930824e-01 1.0691725e-02]\n",
            " [1.6967429e-02 9.8303246e-01 6.0492540e-13]\n",
            " [1.5571629e-06 9.9999839e-01 3.6411286e-08]\n",
            " [1.4191007e-04 9.9985814e-01 2.4376468e-10]\n",
            " [4.2315432e-01 5.7684565e-01 5.1467657e-15]\n",
            " [2.4172194e-05 9.9997580e-01 9.8176789e-10]\n",
            " [7.0457891e-06 9.9999297e-01 2.0774248e-08]]\n",
            "[0 1 0 1 1 1 1 1 1 1]\n"
          ]
        }
      ]
    },
    {
      "cell_type": "markdown",
      "source": [
        "# **텍스트의 활용**"
      ],
      "metadata": {
        "id": "1W37Sj-L3ELD"
      }
    },
    {
      "cell_type": "markdown",
      "source": [
        "## 1)"
      ],
      "metadata": {
        "id": "-FA4s1eq5hEY"
      }
    },
    {
      "cell_type": "code",
      "source": [
        "import seaborn as sns\n",
        "\n",
        "\n",
        "df = sns.load_dataset('titanic')\n",
        "print(df)\n",
        "\n",
        "\n",
        "sns.countplot(data = df, x = 'class', hue = 'alive')"
      ],
      "metadata": {
        "colab": {
          "base_uri": "https://localhost:8080/",
          "height": 965
        },
        "id": "osXsQJrH3J-P",
        "outputId": "7bbbeae9-ecb8-403c-8810-1ed2d58725cc"
      },
      "execution_count": 14,
      "outputs": [
        {
          "output_type": "stream",
          "name": "stdout",
          "text": [
            "     survived  pclass     sex   age  sibsp  parch     fare embarked   class  \\\n",
            "0           0       3    male  22.0      1      0   7.2500        S   Third   \n",
            "1           1       1  female  38.0      1      0  71.2833        C   First   \n",
            "2           1       3  female  26.0      0      0   7.9250        S   Third   \n",
            "3           1       1  female  35.0      1      0  53.1000        S   First   \n",
            "4           0       3    male  35.0      0      0   8.0500        S   Third   \n",
            "..        ...     ...     ...   ...    ...    ...      ...      ...     ...   \n",
            "886         0       2    male  27.0      0      0  13.0000        S  Second   \n",
            "887         1       1  female  19.0      0      0  30.0000        S   First   \n",
            "888         0       3  female   NaN      1      2  23.4500        S   Third   \n",
            "889         1       1    male  26.0      0      0  30.0000        C   First   \n",
            "890         0       3    male  32.0      0      0   7.7500        Q   Third   \n",
            "\n",
            "       who  adult_male deck  embark_town alive  alone  \n",
            "0      man        True  NaN  Southampton    no  False  \n",
            "1    woman       False    C    Cherbourg   yes  False  \n",
            "2    woman       False  NaN  Southampton   yes   True  \n",
            "3    woman       False    C  Southampton   yes  False  \n",
            "4      man        True  NaN  Southampton    no   True  \n",
            "..     ...         ...  ...          ...   ...    ...  \n",
            "886    man        True  NaN  Southampton    no   True  \n",
            "887  woman       False    B  Southampton   yes   True  \n",
            "888  woman       False  NaN  Southampton    no  False  \n",
            "889    man        True    C    Cherbourg   yes   True  \n",
            "890    man        True  NaN   Queenstown    no   True  \n",
            "\n",
            "[891 rows x 15 columns]\n"
          ]
        },
        {
          "output_type": "execute_result",
          "data": {
            "text/plain": [
              "<Axes: xlabel='class', ylabel='count'>"
            ]
          },
          "metadata": {},
          "execution_count": 14
        },
        {
          "output_type": "display_data",
          "data": {
            "text/plain": [
              "<Figure size 640x480 with 1 Axes>"
            ],
            "image/png": "[encoded data removed]"
          },
          "metadata": {}
        }
      ]
    },
    {
      "cell_type": "markdown",
      "source": [
        "## (2) 문장 분석"
      ],
      "metadata": {
        "id": "350WGRrh5qsW"
      }
    },
    {
      "cell_type": "code",
      "source": [
        "# 문장 분석\n",
        "# => 코랩은 !가 붙으면 코드가 아닌 실행될 명령으로 인식\n",
        "!pip install konlpy\n",
        "from konlpy.tag import Okt\n",
        "\n",
        "\n",
        "\n",
        "\n",
        "text = \"우리 가족은 엄마 아빠 나 그리고 동생이다.\"\n",
        "\n",
        "\n",
        "\n",
        "\n",
        "okt = Okt()\n",
        "result = okt.pos(text, norm=True, stem=True)\n",
        "\n",
        "# => 형태소를 분석해봐라\n",
        "# => 실행 시 라이브러리 설치로 시간이 좀 걸릴 수 있음\n",
        "\n",
        "\n",
        "print(result)"
      ],
      "metadata": {
        "colab": {
          "base_uri": "https://localhost:8080/"
        },
        "id": "Wysoxl_s4XP5",
        "outputId": "5481839c-22af-465f-a38c-8e346dbda00a"
      },
      "execution_count": 9,
      "outputs": [
        {
          "output_type": "stream",
          "name": "stdout",
          "text": [
            "Collecting konlpy\n",
            "  Downloading konlpy-0.6.0-py2.py3-none-any.whl (19.4 MB)\n",
            "\u001b[2K     \u001b[90m━━━━━━━━━━━━━━━━━━━━━━━━━━━━━━━━━━━━━━━━\u001b[0m \u001b[32m19.4/19.4 MB\u001b[0m \u001b[31m16.4 MB/s\u001b[0m eta \u001b[36m0:00:00\u001b[0m\n",
            "\u001b[?25hCollecting JPype1>=0.7.0 (from konlpy)\n",
            "  Downloading JPype1-1.5.0-cp310-cp310-manylinux_2_17_x86_64.manylinux2014_x86_64.whl (488 kB)\n",
            "\u001b[2K     \u001b[90m━━━━━━━━━━━━━━━━━━━━━━━━━━━━━━━━━━━━━━━━\u001b[0m \u001b[32m488.6/488.6 kB\u001b[0m \u001b[31m20.4 MB/s\u001b[0m eta \u001b[36m0:00:00\u001b[0m\n",
            "\u001b[?25hRequirement already satisfied: lxml>=4.1.0 in /usr/local/lib/python3.10/dist-packages (from konlpy) (4.9.3)\n",
            "Requirement already satisfied: numpy>=1.6 in /usr/local/lib/python3.10/dist-packages (from konlpy) (1.23.5)\n",
            "Requirement already satisfied: packaging in /usr/local/lib/python3.10/dist-packages (from JPype1>=0.7.0->konlpy) (23.2)\n",
            "Installing collected packages: JPype1, konlpy\n",
            "Successfully installed JPype1-1.5.0 konlpy-0.6.0\n",
            "[('우리', 'Noun'), ('가족', 'Noun'), ('은', 'Josa'), ('엄마', 'Noun'), ('아빠', 'Noun'), ('나', 'Noun'), ('그리고', 'Conjunction'), ('동생', 'Noun'), ('이다', 'Josa'), ('.', 'Punctuation')]\n"
          ]
        }
      ]
    },
    {
      "cell_type": "markdown",
      "source": [
        "## (3) 워드카운트"
      ],
      "metadata": {
        "id": "B2btU_M55wH2"
      }
    },
    {
      "cell_type": "code",
      "source": [
        "#워드카운드\n",
        "\n",
        "\n",
        "\n",
        "\n",
        "from sklearn.feature_extraction.text import CountVectorizer\n",
        "\n",
        "\n",
        "\n",
        "\n",
        "corpus = ['송아지 송아지 얼룩 송아지 엄마 소도 얼룩 소 엄마 닮았네']\n",
        "vector = CountVectorizer()\n",
        "\n",
        "\n",
        "\n",
        "\n",
        "print(vector.fit_transform(corpus).toarray()) # 코퍼스 분석\n",
        "print(vector.vocabulary_)"
      ],
      "metadata": {
        "colab": {
          "base_uri": "https://localhost:8080/"
        },
        "id": "1LaJ6B395dAn",
        "outputId": "848e34d4-74bd-4b87-f4bc-e2bac066a53b"
      },
      "execution_count": 10,
      "outputs": [
        {
          "output_type": "stream",
          "name": "stdout",
          "text": [
            "[[1 1 3 2 2]]\n",
            "{'송아지': 2, '얼룩': 3, '엄마': 4, '소도': 1, '닮았네': 0}\n"
          ]
        }
      ]
    },
    {
      "cell_type": "markdown",
      "source": [
        "## (4) 워드벡터"
      ],
      "metadata": {
        "id": "YaR96e1w64a5"
      }
    },
    {
      "cell_type": "code",
      "source": [
        "# 워드벡터\n",
        "import nltk\n",
        "from nltk.corpus import movie_reviews\n",
        "from gensim.models.word2vec import Word2Vec\n",
        "\n",
        "\n",
        "nltk.download('movie_reviews')\n",
        "nltk.download('punkt')\n",
        "\n",
        "\n",
        "sentences = [list(s) for s in movie_reviews.sents()]\n",
        "model = Word2Vec(sentences)\n",
        "\n",
        "\n",
        "print(model.wv.similarity('actor', 'actress'))\n",
        "print(model.wv.similarity('he', 'she'))\n",
        "print(model.wv.most_similar(positive=['actress', 'he'], negative=['she'])[0])"
      ],
      "metadata": {
        "colab": {
          "base_uri": "https://localhost:8080/"
        },
        "id": "Q05bdyul60dw",
        "outputId": "75baa131-18b8-4b54-c58a-9d5b4a2b1b85"
      },
      "execution_count": 11,
      "outputs": [
        {
          "output_type": "stream",
          "name": "stderr",
          "text": [
            "[nltk_data] Downloading package movie_reviews to /root/nltk_data...\n",
            "[nltk_data]   Unzipping corpora/movie_reviews.zip.\n",
            "[nltk_data] Downloading package punkt to /root/nltk_data...\n",
            "[nltk_data]   Unzipping tokenizers/punkt.zip.\n"
          ]
        },
        {
          "output_type": "stream",
          "name": "stdout",
          "text": [
            "0.8755487\n",
            "0.8433741\n",
            "('actor', 0.8351092338562012)\n"
          ]
        }
      ]
    },
    {
      "cell_type": "markdown",
      "source": [
        "## (5) ngram"
      ],
      "metadata": {
        "id": "TVZ1Ttpu8QOc"
      }
    },
    {
      "cell_type": "code",
      "source": [
        "def ngram(s, num):\n",
        "    res = []\n",
        "    slen = len(s) - num + 1\n",
        "    for i in range(slen):\n",
        "        ss = s[i:i+num]\n",
        "        res.append(ss)\n",
        "    return res\n",
        "def diff_ngram(sa, sb, num):\n",
        "    a = ngram(sa, num)\n",
        "    b = ngram(sb, num)\n",
        "    r = []\n",
        "    cnt = 0\n",
        "    for i in a:\n",
        "        for j in b:\n",
        "            if i == j:\n",
        "                cnt += 1\n",
        "                r.append(i)\n",
        "    return cnt / len(a), r\n",
        "a = \"오늘 강남에서 맛있는 스파게티를 먹었다.\"\n",
        "b = \"강남에서 먹었던 오늘의 스파게티는 맛있었다.\"\n",
        "# 2-gram\n",
        "r2, word2 = diff_ngram(a, b, 2)\n",
        "print(\"2-gram:\", r2, word2)\n",
        "# 3-gram\n",
        "r3, word3  = diff_ngram(a, b, 3)\n",
        "print(\"3-gram:\", r3, word3)"
      ],
      "metadata": {
        "colab": {
          "base_uri": "https://localhost:8080/"
        },
        "id": "5Act2JFg8H4A",
        "outputId": "79029d8f-9a9f-48d8-e7bc-896597e33484"
      },
      "execution_count": 12,
      "outputs": [
        {
          "output_type": "stream",
          "name": "stdout",
          "text": [
            "2-gram: 0.7619047619047619 ['오늘', '강남', '남에', '에서', '서 ', ' 맛', '맛있', '는 ', ' 스', '스파', '파게', '게티', ' 먹', '먹었', '었다', '다.']\n",
            "3-gram: 0.45 ['강남에', '남에서', '에서 ', ' 맛있', ' 스파', '스파게', '파게티', ' 먹었', '었다.']\n"
          ]
        }
      ]
    },
    {
      "cell_type": "markdown",
      "source": [
        "## (6) 텍스트 분류"
      ],
      "metadata": {
        "id": "6yWIuFf--ZO8"
      }
    },
    {
      "cell_type": "code",
      "source": [
        "# 텍스트 분류\n",
        "from sklearn.naive_bayes import BernoulliNB, GaussianNB, MultinomialNB\n",
        "from sklearn.feature_extraction.text import CountVectorizer\n",
        "\n",
        "\n",
        "# 훈련 데이터 (텍스트) - 입력\n",
        "corpus = [\"광고 쇼핑몰 가격 선물 세일\",\n",
        "          \"투자 수익 소식 등급\",\n",
        "          \"쿠폰 선물 무료 익일 배송\",\n",
        "          \"백화점 상품 파격 세일\",\n",
        "          \"프로젝트 보고서 지급\",\n",
        "          \"회의 일정 변경\"]\n",
        "\n",
        "\n",
        "# 훈련라벨 ())0: 일반, 1: 스팸) - 결과\n",
        "label = [1,1,1,1,0,0]\n",
        "\n",
        "# => 입력값을 컴퓨터가 알 수 있는 숫자데이타로 변경해주는 작업\n",
        "# => ex. \"광고 쇼핑몰 가격 선물 세일\" => ~~~\n",
        "vector = CountVectorizer()\n",
        "train = vector.fit_transform(corpus).toarray()\n",
        "\n",
        "\n",
        "# 나이브 베이즈 분류 모델 생성\n",
        "model = BernoulliNB()\n",
        "model.fit(train, label) # 학습\n",
        "\n",
        "\n",
        "# => 학습 후 예측\n",
        "data = [\"백화점 세일 무료 배송 알찬\"]\n",
        "test = vector.transform(data).toarray()\n",
        "\n",
        "\n",
        "result = model.predict(test)\n",
        "print(result)"
      ],
      "metadata": {
        "colab": {
          "base_uri": "https://localhost:8080/"
        },
        "id": "bBKB0vdI-bZn",
        "outputId": "d339c613-b329-49f1-d796-6447396785ad"
      },
      "execution_count": 13,
      "outputs": [
        {
          "output_type": "stream",
          "name": "stdout",
          "text": [
            "[1]\n"
          ]
        }
      ]
    }
  ]
}